{
 "cells": [
  {
   "cell_type": "code",
   "execution_count": 1,
   "id": "798dbefe",
   "metadata": {},
   "outputs": [],
   "source": [
    "import pandas as pd\n",
    "import numpy as np\n",
    "from matplotlib import pyplot as plt\n",
    "import statsmodels as sm\n",
    "import statsmodels.formula.api as smf"
   ]
  },
  {
   "cell_type": "code",
   "execution_count": 2,
   "id": "91338351",
   "metadata": {},
   "outputs": [],
   "source": [
    "df=pd.read_csv(\"c://j-works22/works/data/prac_kr_ip.csv\")"
   ]
  },
  {
   "cell_type": "code",
   "execution_count": 3,
   "id": "27f79989",
   "metadata": {},
   "outputs": [
    {
     "data": {
      "text/plain": [
       "(96, 6)"
      ]
     },
     "execution_count": 3,
     "metadata": {},
     "output_type": "execute_result"
    }
   ],
   "source": [
    "df.shape"
   ]
  },
  {
   "cell_type": "code",
   "execution_count": 4,
   "id": "025ace71",
   "metadata": {},
   "outputs": [],
   "source": [
    "# x=df['kr_ip']\n",
    "x=df['ip']"
   ]
  },
  {
   "cell_type": "code",
   "execution_count": 5,
   "id": "93f2e9b6",
   "metadata": {},
   "outputs": [
    {
     "name": "stderr",
     "output_type": "stream",
     "text": [
      "C:\\Users\\ewha\\anaconda3\\lib\\site-packages\\statsmodels\\tsa\\stattools.py:1906: InterpolationWarning: The test statistic is outside of the range of p-values available in the\n",
      "look-up table. The actual p-value is smaller than the p-value returned.\n",
      "\n",
      "  warnings.warn(\n"
     ]
    },
    {
     "data": {
      "text/plain": [
       "(0.25552257058586364,\n",
       " 0.01,\n",
       " 5,\n",
       " {'10%': 0.119, '5%': 0.146, '2.5%': 0.176, '1%': 0.216})"
      ]
     },
     "execution_count": 5,
     "metadata": {},
     "output_type": "execute_result"
    }
   ],
   "source": [
    "# c; constant only\n",
    "# ct: constant and time trend\n",
    "from statsmodels.tsa.stattools import kpss\n",
    "kpss=kpss(x, regression='ct', nlags='auto')\n",
    "kpss"
   ]
  },
  {
   "cell_type": "code",
   "execution_count": 6,
   "id": "ccfc843d",
   "metadata": {},
   "outputs": [
    {
     "name": "stdout",
     "output_type": "stream",
     "text": [
      "test value: 0.255500\n",
      "lag: 5.000000\n",
      "cv= {'10%': 0.119, '5%': 0.146, '2.5%': 0.176, '1%': 0.216}\n"
     ]
    }
   ],
   "source": [
    "kpss0=round(kpss[0],4)\n",
    "kpss2=round(kpss[2],4)\n",
    "kpss3=kpss[3]\n",
    "\n",
    "print('test value: %f' % kpss0)\n",
    "# print('p-value: %f' % kpss1)\n",
    "print('lag: %f' % kpss2)\n",
    "print('cv=', kpss3)"
   ]
  }
 ],
 "metadata": {
  "kernelspec": {
   "display_name": "Python 3 (ipykernel)",
   "language": "python",
   "name": "python3"
  },
  "language_info": {
   "codemirror_mode": {
    "name": "ipython",
    "version": 3
   },
   "file_extension": ".py",
   "mimetype": "text/x-python",
   "name": "python",
   "nbconvert_exporter": "python",
   "pygments_lexer": "ipython3",
   "version": "3.9.7"
  }
 },
 "nbformat": 4,
 "nbformat_minor": 5
}
