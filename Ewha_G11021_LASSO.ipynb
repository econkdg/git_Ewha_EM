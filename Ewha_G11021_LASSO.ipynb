{
 "cells": [
  {
   "cell_type": "code",
   "execution_count": 1,
   "id": "798dbefe",
   "metadata": {},
   "outputs": [],
   "source": [
    "import pandas as pd\n",
    "import numpy as np\n",
    "import statsmodels as sm\n",
    "import statsmodels.formula.api as smf\n",
    "from matplotlib import pyplot as plt\n",
    "import math\n",
    "from sklearn.linear_model import Lasso\n",
    "# from sklearn.model_selection import cross_val_score\n",
    "# from sklearn.model_selection import GridSearchCV\n",
    "# from sklearn.model_selection import RepeatedKFold"
   ]
  },
  {
   "cell_type": "code",
   "execution_count": 2,
   "id": "91338351",
   "metadata": {},
   "outputs": [
    {
     "data": {
      "text/plain": [
       "(216, 13)"
      ]
     },
     "execution_count": 2,
     "metadata": {},
     "output_type": "execute_result"
    }
   ],
   "source": [
    "df=pd.read_csv(\"c://j-works22/works/data/prac_many.csv\")\n",
    "y=df['y']\n",
    "x=df.values[:, 2:]\n",
    "# x.shape"
   ]
  },
  {
   "cell_type": "code",
   "execution_count": 23,
   "id": "87c4cd99",
   "metadata": {},
   "outputs": [
    {
     "name": "stdout",
     "output_type": "stream",
     "text": [
      "[ 0.          0.          0.          0.32713795 -0.         -0.\n",
      "  0.13681049 -0.         -0.          0.          0.          0.\n",
      " -0.        ]\n"
     ]
    }
   ],
   "source": [
    "# alpha = lambda value in the penalty term (for example, minimum= 1e-5 = 0.00001)\n",
    "\n",
    "\n",
    "model=Lasso(alpha=0.00002, normalize='true')\n",
    "model.fit(x,y)\n",
    "bhat=model.coef_\n",
    "print(bhat)"
   ]
  },
  {
   "cell_type": "code",
   "execution_count": 24,
   "id": "1090748b",
   "metadata": {},
   "outputs": [
    {
     "data": {
      "text/plain": [
       "array([ 0.    ,  0.    ,  0.    ,  0.3271, -0.    , -0.    ,  0.1368,\n",
       "       -0.    , -0.    ,  0.    ,  0.    ,  0.    , -0.    ])"
      ]
     },
     "execution_count": 24,
     "metadata": {},
     "output_type": "execute_result"
    }
   ],
   "source": [
    "bhat=np.array(bhat)\n",
    "np.round(bhat,4)"
   ]
  }
 ],
 "metadata": {
  "kernelspec": {
   "display_name": "Python 3 (ipykernel)",
   "language": "python",
   "name": "python3"
  },
  "language_info": {
   "codemirror_mode": {
    "name": "ipython",
    "version": 3
   },
   "file_extension": ".py",
   "mimetype": "text/x-python",
   "name": "python",
   "nbconvert_exporter": "python",
   "pygments_lexer": "ipython3",
   "version": "3.9.7"
  }
 },
 "nbformat": 4,
 "nbformat_minor": 5
}
