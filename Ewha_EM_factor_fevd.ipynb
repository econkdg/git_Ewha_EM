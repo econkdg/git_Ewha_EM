{
 "cells": [
  {
   "cell_type": "code",
   "execution_count": 1,
   "id": "798dbefe",
   "metadata": {},
   "outputs": [],
   "source": [
    "import pandas as pd\n",
    "import numpy as np\n",
    "import statsmodels as sm\n",
    "import statsmodels.formula.api as smf\n",
    "from matplotlib import pyplot as plt\n",
    "import math\n",
    "from sklearn.preprocessing import StandardScaler\n",
    "from statsmodels.tsa.api import VAR"
   ]
  },
  {
   "cell_type": "code",
   "execution_count": 2,
   "id": "91338351",
   "metadata": {},
   "outputs": [],
   "source": [
    "df=pd.read_csv(\"c://j-works22/works/data/prac_many.csv\")\n",
    "y=df['y']\n",
    "x=df.values[:, 2:10]\n",
    "x=StandardScaler(with_mean=True, with_std=True).fit_transform(x)"
   ]
  },
  {
   "cell_type": "code",
   "execution_count": 3,
   "id": "3ea0726a",
   "metadata": {},
   "outputs": [],
   "source": [
    "# eigenvalue and eigenvectors from XX' matrix\n",
    "u=np.matmul(x.T, x)   \n",
    "evals, evecs = np.linalg.eig(u)\n",
    "\n",
    "# Eigenvalues and eigenvectors as descending order\n",
    "sort=np.argsort(-1*evals)\n",
    "vals=evals[sort]\n",
    "vecs=evecs[:, sort]\n",
    "n=len(vals)\n",
    "\n",
    "# the largest eigenvalu and eigenvector\n",
    "vals0=vals[0]\n",
    "vecs0=vecs[:,0]\n",
    "\n",
    "# the largest factor\n",
    "gamma0=np.sqrt(n)*vecs0 \n",
    "f0=np.matmul(x, gamma0)/n\n",
    "\n",
    "# rescaled factor\n",
    "# factor0=np.array(f0)\n",
    "f0=f0.reshape(-1,1)\n",
    "f0=StandardScaler(with_mean=True, with_std=True).fit_transform(f0)"
   ]
  },
  {
   "cell_type": "code",
   "execution_count": 5,
   "id": "bede63c6",
   "metadata": {},
   "outputs": [
    {
     "name": "stdout",
     "output_type": "stream",
     "text": [
      "FEVD for y1\n",
      "           y1        y2\n",
      "0    1.000000  0.000000\n",
      "1    0.937543  0.062457\n",
      "2    0.911928  0.088072\n",
      "3    0.898678  0.101322\n",
      "4    0.890979  0.109021\n",
      "5    0.886201  0.113799\n",
      "6    0.883113  0.116887\n",
      "7    0.881066  0.118934\n",
      "8    0.879684  0.120316\n",
      "9    0.878742  0.121258\n",
      "\n",
      "FEVD for y2\n",
      "           y1        y2\n",
      "0    0.418747  0.581253\n",
      "1    0.418766  0.581234\n",
      "2    0.418791  0.581209\n",
      "3    0.418809  0.581191\n",
      "4    0.418821  0.581179\n",
      "5    0.418830  0.581170\n",
      "6    0.418836  0.581164\n",
      "7    0.418840  0.581160\n",
      "8    0.418843  0.581157\n",
      "9    0.418845  0.581155\n",
      "\n",
      "\n"
     ]
    }
   ],
   "source": [
    "# fevd from FAVAR\n",
    "\n",
    "z=np.column_stack((f0, y))\n",
    "result=VAR(z).fit(maxlags=10, ic='bic')\n",
    "fevd=result.fevd(10)\n",
    "fevd.summary()"
   ]
  }
 ],
 "metadata": {
  "kernelspec": {
   "display_name": "Python 3 (ipykernel)",
   "language": "python",
   "name": "python3"
  },
  "language_info": {
   "codemirror_mode": {
    "name": "ipython",
    "version": 3
   },
   "file_extension": ".py",
   "mimetype": "text/x-python",
   "name": "python",
   "nbconvert_exporter": "python",
   "pygments_lexer": "ipython3",
   "version": "3.8.12"
  }
 },
 "nbformat": 4,
 "nbformat_minor": 5
}
