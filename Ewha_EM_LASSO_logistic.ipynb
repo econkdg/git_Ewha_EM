{
 "cells": [
  {
   "cell_type": "code",
   "execution_count": 1,
   "id": "798dbefe",
   "metadata": {},
   "outputs": [],
   "source": [
    "import pandas as pd\n",
    "import numpy as np\n",
    "import statsmodels as sm\n",
    "import statsmodels.formula.api as smf\n",
    "from matplotlib import pyplot as plt\n",
    "import math\n",
    "from sklearn.linear_model import Lasso\n",
    "from sklearn.linear_model import LogisticRegression\n",
    "from sklearn.preprocessing import StandardScaler\n",
    "\n",
    "# from sklearn.model_selection import cross_val_score\n",
    "# from sklearn.model_selection import GridSearchCV\n",
    "# from sklearn.model_selection import RepeatedKFold"
   ]
  },
  {
   "cell_type": "code",
   "execution_count": 2,
   "id": "91338351",
   "metadata": {},
   "outputs": [
    {
     "data": {
      "text/plain": [
       "(216, 13)"
      ]
     },
     "execution_count": 2,
     "metadata": {},
     "output_type": "execute_result"
    }
   ],
   "source": [
    "df=pd.read_csv(\"c://j-works22/works/data/prac_many_1.csv\")\n",
    "y=df['recession']\n",
    "x=df.values[:, 3:]"
   ]
  },
  {
   "cell_type": "code",
   "execution_count": 3,
   "id": "ebbc0658",
   "metadata": {},
   "outputs": [],
   "source": [
    "# standardize x variables\n",
    "scale=StandardScaler(with_mean=True, with_std=True)\n",
    "z=scale.fit_transform(x)"
   ]
  },
  {
   "cell_type": "code",
   "execution_count": 4,
   "id": "87c4cd99",
   "metadata": {},
   "outputs": [
    {
     "name": "stdout",
     "output_type": "stream",
     "text": [
      "[[-0.35301088  0.19848634  0.59624786  0.12141386  2.27245987 -0.56640808\n",
      "   0.30227632  1.08610736 -0.37705962 -0.38808637 -0.14058339 -0.46617524\n",
      "  -0.3666139 ]]\n"
     ]
    }
   ],
   "source": [
    "# default only works for no penalty and L2 penalty\n",
    "# model=LogisticRegression(penalty='none')\n",
    "# model=LogisticRegression(penalty='l2')\n",
    "\n",
    "# model=LogisticRegression(penalty='l1', solver='liblinear')\n",
    "\n",
    "model=LogisticRegression(penalty='none')\n",
    "reg=model.fit(z,y)\n",
    "bhat=reg.coef_\n",
    "print(bhat)"
   ]
  },
  {
   "cell_type": "code",
   "execution_count": 5,
   "id": "1090748b",
   "metadata": {},
   "outputs": [
    {
     "data": {
      "text/plain": [
       "array([[-0.353 ,  0.1985,  0.5962,  0.1214,  2.2725, -0.5664,  0.3023,\n",
       "         1.0861, -0.3771, -0.3881, -0.1406, -0.4662, -0.3666]])"
      ]
     },
     "execution_count": 5,
     "metadata": {},
     "output_type": "execute_result"
    }
   ],
   "source": [
    "bhat=np.array(bhat)\n",
    "np.round(bhat,4)"
   ]
  }
 ],
 "metadata": {
  "kernelspec": {
   "display_name": "Python 3 (ipykernel)",
   "language": "python",
   "name": "python3"
  },
  "language_info": {
   "codemirror_mode": {
    "name": "ipython",
    "version": 3
   },
   "file_extension": ".py",
   "mimetype": "text/x-python",
   "name": "python",
   "nbconvert_exporter": "python",
   "pygments_lexer": "ipython3",
   "version": "3.9.7"
  }
 },
 "nbformat": 4,
 "nbformat_minor": 5
}
