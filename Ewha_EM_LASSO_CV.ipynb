{
 "cells": [
  {
   "cell_type": "code",
   "execution_count": 1,
   "id": "798dbefe",
   "metadata": {},
   "outputs": [],
   "source": [
    "import pandas as pd\n",
    "import numpy as np\n",
    "import statsmodels as sm\n",
    "import statsmodels.formula.api as smf\n",
    "from matplotlib import pyplot as plt\n",
    "import math\n",
    "from sklearn.linear_model import Lasso\n",
    "from sklearn.linear_model import LassoCV\n",
    "from sklearn.model_selection import cross_val_score\n",
    "from sklearn.model_selection import GridSearchCV\n",
    "from sklearn.model_selection import KFold"
   ]
  },
  {
   "cell_type": "code",
   "execution_count": 2,
   "id": "91338351",
   "metadata": {},
   "outputs": [
    {
     "data": {
      "text/plain": [
       "(216, 13)"
      ]
     },
     "execution_count": 2,
     "metadata": {},
     "output_type": "execute_result"
    }
   ],
   "source": [
    "df=pd.read_csv(\"c://j-works22/works/data/prac_many.csv\")\n",
    "y=df['y']\n",
    "x=df.values[:, 2:]"
   ]
  },
  {
   "cell_type": "code",
   "execution_count": 3,
   "id": "75264418",
   "metadata": {},
   "outputs": [
    {
     "name": "stdout",
     "output_type": "stream",
     "text": [
      "Estimate of Tuning Paramter: 0.000005\n",
      "Estimates of Beta [ 2.51317120e-04  1.30955223e-04 -0.00000000e+00  3.51870841e-01\n",
      " -1.39501222e-04 -0.00000000e+00  1.79427682e-01  0.00000000e+00\n",
      "  0.00000000e+00  0.00000000e+00  0.00000000e+00  0.00000000e+00\n",
      " -0.00000000e+00]\n"
     ]
    }
   ],
   "source": [
    "# cv=KFold(n_splits=5, random_state=None)\n",
    "\n",
    "model=LassoCV(normalize='True', cv=None)\n",
    "model.fit(x,y)\n",
    "tuning=model.alpha_\n",
    "coef=model.coef_\n",
    "coef=np.array(coef)\n",
    "print('Estimate of Tuning Paramter: %f' % tuning)\n",
    "print(\"Estimates of Beta\", coef)"
   ]
  }
 ],
 "metadata": {
  "kernelspec": {
   "display_name": "Python 3 (ipykernel)",
   "language": "python",
   "name": "python3"
  },
  "language_info": {
   "codemirror_mode": {
    "name": "ipython",
    "version": 3
   },
   "file_extension": ".py",
   "mimetype": "text/x-python",
   "name": "python",
   "nbconvert_exporter": "python",
   "pygments_lexer": "ipython3",
   "version": "3.9.7"
  }
 },
 "nbformat": 4,
 "nbformat_minor": 5
}
