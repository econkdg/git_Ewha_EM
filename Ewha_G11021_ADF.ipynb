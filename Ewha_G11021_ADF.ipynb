{
 "cells": [
  {
   "cell_type": "code",
   "execution_count": 1,
   "id": "798dbefe",
   "metadata": {},
   "outputs": [],
   "source": [
    "import pandas as pd\n",
    "import numpy as np\n",
    "import statsmodels as sm\n",
    "import statsmodels.formula.api as smf"
   ]
  },
  {
   "cell_type": "code",
   "execution_count": 2,
   "id": "91338351",
   "metadata": {},
   "outputs": [],
   "source": [
    "df=pd.read_csv(\"c://j-works22/works/data/prac_2022.csv\")"
   ]
  },
  {
   "cell_type": "code",
   "execution_count": 3,
   "id": "27f79989",
   "metadata": {},
   "outputs": [
    {
     "data": {
      "text/plain": [
       "(216, 5)"
      ]
     },
     "execution_count": 3,
     "metadata": {},
     "output_type": "execute_result"
    }
   ],
   "source": [
    "df.shape"
   ]
  },
  {
   "cell_type": "code",
   "execution_count": 4,
   "id": "025ace71",
   "metadata": {},
   "outputs": [],
   "source": [
    "x=df['kr_ip']\n",
    "y=df['term_spread']"
   ]
  },
  {
   "cell_type": "code",
   "execution_count": 5,
   "id": "1ca3644f",
   "metadata": {
    "scrolled": true
   },
   "outputs": [
    {
     "data": {
      "text/plain": [
       "array([[1.        , 0.25327851],\n",
       "       [0.25327851, 1.        ]])"
      ]
     },
     "execution_count": 5,
     "metadata": {},
     "output_type": "execute_result"
    }
   ],
   "source": [
    "np.corrcoef(x,y)"
   ]
  },
  {
   "cell_type": "code",
   "execution_count": 23,
   "id": "6fc3ffb1",
   "metadata": {},
   "outputs": [
    {
     "name": "stdout",
     "output_type": "stream",
     "text": [
      "                            OLS Regression Results                            \n",
      "==============================================================================\n",
      "Dep. Variable:                      y   R-squared:                       0.064\n",
      "Model:                            OLS   Adj. R-squared:                  0.060\n",
      "Method:                 Least Squares   F-statistic:                     14.67\n",
      "Date:                Tue, 15 Feb 2022   Prob (F-statistic):           0.000168\n",
      "Time:                        11:52:15   Log-Likelihood:                -238.52\n",
      "No. Observations:                 216   AIC:                             481.0\n",
      "Df Residuals:                     214   BIC:                             487.8\n",
      "Df Model:                           1                                         \n",
      "Covariance Type:            nonrobust                                         \n",
      "==============================================================================\n",
      "                 coef    std err          t      P>|t|      [0.025      0.975]\n",
      "------------------------------------------------------------------------------\n",
      "Intercept      0.7991      0.051     15.782      0.000       0.699       0.899\n",
      "x              8.7709      2.290      3.830      0.000       4.257      13.285\n",
      "==============================================================================\n",
      "Omnibus:                       21.581   Durbin-Watson:                   0.209\n",
      "Prob(Omnibus):                  0.000   Jarque-Bera (JB):               25.426\n",
      "Skew:                           0.836   Prob(JB):                     3.01e-06\n",
      "Kurtosis:                       3.176   Cond. No.                         45.9\n",
      "==============================================================================\n",
      "\n",
      "Notes:\n",
      "[1] Standard Errors assume that the covariance matrix of the errors is correctly specified.\n"
     ]
    }
   ],
   "source": [
    "ols=smf.ols('y~x', data=df).fit()\n",
    "print(ols.summary().as_text())"
   ]
  },
  {
   "cell_type": "code",
   "execution_count": 25,
   "id": "fae97df2",
   "metadata": {},
   "outputs": [],
   "source": [
    "from matplotlib import pyplot as plt"
   ]
  },
  {
   "cell_type": "code",
   "execution_count": 26,
   "id": "331ccf3a",
   "metadata": {},
   "outputs": [
    {
     "data": {
      "text/plain": [
       "<matplotlib.collections.PathCollection at 0x20f5d7d3280>"
      ]
     },
     "execution_count": 26,
     "metadata": {},
     "output_type": "execute_result"
    },
    {
     "data": {
      "image/png": "[encoded data removed]",
      "text/plain": [
       "<Figure size 432x288 with 1 Axes>"
      ]
     },
     "metadata": {
      "needs_background": "light"
     },
     "output_type": "display_data"
    }
   ],
   "source": [
    "plt.scatter(x,y)"
   ]
  },
  {
   "cell_type": "code",
   "execution_count": 26,
   "id": "92796500",
   "metadata": {
    "scrolled": false
   },
   "outputs": [
    {
     "data": {
      "text/plain": [
       "array([ 0.83388,  1.14726,  0.90125,  0.31339, -0.2331 , -0.84019,\n",
       "       -1.00613, -0.93905, -0.70991])"
      ]
     },
     "execution_count": 26,
     "metadata": {},
     "output_type": "execute_result"
    }
   ],
   "source": [
    "# autocorrelation\n",
    "def acf(x):\n",
    "     return np.correlate(x,x, mode='full')\n",
    "z=acf(y)\n",
    "z[1:10]"
   ]
  },
  {
   "cell_type": "code",
   "execution_count": 7,
   "id": "bef8e424",
   "metadata": {},
   "outputs": [
    {
     "data": {
      "text/plain": [
       "(-3.1734973650703138,\n",
       " 0.02157092761980104,\n",
       " 1,\n",
       " 214,\n",
       " {'1%': -3.4612821203214907,\n",
       "  '5%': -2.875142613826617,\n",
       "  '10%': -2.574020122281422},\n",
       " -44.222037313226394)"
      ]
     },
     "execution_count": 7,
     "metadata": {},
     "output_type": "execute_result"
    }
   ],
   "source": [
    "from statsmodels.tsa.stattools import adfuller\n",
    "def adf(x):\n",
    "    return adfuller(x, autolag='AIC')\n",
    "\n",
    "adf(y)\n",
    "#adfoutput=pd.Series(adftest[0:4], index=['test', 'pvalue', 'lags', 'sample size'])\n",
    "#print(adfoutput)"
   ]
  },
  {
   "cell_type": "code",
   "execution_count": 11,
   "id": "93f2e9b6",
   "metadata": {},
   "outputs": [
    {
     "data": {
      "text/plain": [
       "(-3.1734973650703138,\n",
       " 0.02157092761980104,\n",
       " 1,\n",
       " 214,\n",
       " {'1%': -3.4612821203214907,\n",
       "  '5%': -2.875142613826617,\n",
       "  '10%': -2.574020122281422},\n",
       " -44.222037313226394)"
      ]
     },
     "execution_count": 11,
     "metadata": {},
     "output_type": "execute_result"
    }
   ],
   "source": [
    "from statsmodels.tsa.stattools import adfuller\n",
    "adf=adfuller(y, regression='c', autolag='aic', store=False, regresults=False)\n",
    "adf"
   ]
  },
  {
   "cell_type": "code",
   "execution_count": 25,
   "id": "c7562f7a",
   "metadata": {},
   "outputs": [
    {
     "name": "stdout",
     "output_type": "stream",
     "text": [
      "test value: -3.173500\n",
      "p-value: 0.021600\n",
      "lag: 1.000000\n",
      "sample size 214.000000\n",
      "cv= {'1%': -3.4612821203214907, '5%': -2.875142613826617, '10%': -2.574020122281422}\n"
     ]
    }
   ],
   "source": [
    "adf0=adf[0]\n",
    "adf1=adf[1]\n",
    "adf2=adf[2]\n",
    "adf3=adf[3]\n",
    "adf4=adf[4]\n",
    "# out={adf0, adf1, adf2, adf3}\n",
    "#result=pd.Series(out)\n",
    "#result\n",
    "adf0=round(adf0, 4)\n",
    "adf1=round(adf1, 4)\n",
    "adf2=round(adf2, 4)\n",
    "adf3=round(adf3, 4)\n",
    "\n",
    "print('test value: %f' % adf0)\n",
    "print('p-value: %f' % adf1)\n",
    "print('lag: %f' % adf2)\n",
    "print('sample size %f' % adf3)\n",
    "print('cv=', adf4)"
   ]
  }
 ],
 "metadata": {
  "kernelspec": {
   "display_name": "Python 3 (ipykernel)",
   "language": "python",
   "name": "python3"
  },
  "language_info": {
   "codemirror_mode": {
    "name": "ipython",
    "version": 3
   },
   "file_extension": ".py",
   "mimetype": "text/x-python",
   "name": "python",
   "nbconvert_exporter": "python",
   "pygments_lexer": "ipython3",
   "version": "3.9.7"
  }
 },
 "nbformat": 4,
 "nbformat_minor": 5
}
