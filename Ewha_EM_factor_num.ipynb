{
 "cells": [
  {
   "cell_type": "code",
   "execution_count": 1,
   "id": "798dbefe",
   "metadata": {},
   "outputs": [],
   "source": [
    "import pandas as pd\n",
    "import numpy as np\n",
    "import statsmodels as sm\n",
    "import statsmodels.formula.api as smf\n",
    "from matplotlib import pyplot as plt\n",
    "import math\n",
    "from sklearn.preprocessing import StandardScaler"
   ]
  },
  {
   "cell_type": "code",
   "execution_count": 2,
   "id": "91338351",
   "metadata": {},
   "outputs": [
    {
     "data": {
      "text/plain": [
       "13"
      ]
     },
     "execution_count": 2,
     "metadata": {},
     "output_type": "execute_result"
    }
   ],
   "source": [
    "df=pd.read_csv(\"c://j-works22/works/data/prac_many.csv\")\n",
    "x=df.values[:, 2:]\n",
    "x=StandardScaler(with_mean=True, with_std=True).fit_transform(x)\n",
    "nr=x.shape[0]\n",
    "nc=x.shape[1]\n",
    "nc"
   ]
  },
  {
   "cell_type": "code",
   "execution_count": 3,
   "id": "505978c1",
   "metadata": {},
   "outputs": [
    {
     "data": {
      "text/plain": [
       "array([0.3559666 , 0.24978956, 0.1231148 , 0.09478102, 0.06903486,\n",
       "       0.03350625, 0.02705766, 0.01867761, 0.01118647, 0.00934659,\n",
       "       0.00542755, 0.00114677, 0.00096425])"
      ]
     },
     "execution_count": 3,
     "metadata": {},
     "output_type": "execute_result"
    }
   ],
   "source": [
    "# eigenvalues\n",
    "u=np.matmul(x.T, x)   \n",
    "nn=nr*nc\n",
    "u=np.divide(u, nn)\n",
    "\n",
    "evals, evecs = np.linalg.eig(u)\n",
    "sort=np.argsort(-1*evals)\n",
    "vals=evals[sort]\n",
    "vals"
   ]
  },
  {
   "cell_type": "code",
   "execution_count": 6,
   "id": "11c3f2b5",
   "metadata": {},
   "outputs": [
    {
     "name": "stdout",
     "output_type": "stream",
     "text": [
      "eigen vakue ratio tests: [1.42506597 2.02891586 1.29893932 1.3729443  2.06035771 1.23832769]\n",
      "number of factors: 5\n"
     ]
    }
   ],
   "source": [
    "# eigenvalue ratio test\n",
    "\n",
    "kk=6\n",
    "evr=np.zeros(kk)\n",
    "\n",
    "i=0\n",
    "while i < kk:\n",
    "    evr[i]=vals[i]/vals[i+1]\n",
    "    i=i+1\n",
    " \n",
    "print(\"eigen vakue ratio tests:\", evr)\n",
    "\n",
    "n_factor=np.argmax(evr)+1\n",
    "\n",
    "print(\"number of factors:\", n_factor)"
   ]
  }
 ],
 "metadata": {
  "kernelspec": {
   "display_name": "Python 3 (ipykernel)",
   "language": "python",
   "name": "python3"
  },
  "language_info": {
   "codemirror_mode": {
    "name": "ipython",
    "version": 3
   },
   "file_extension": ".py",
   "mimetype": "text/x-python",
   "name": "python",
   "nbconvert_exporter": "python",
   "pygments_lexer": "ipython3",
   "version": "3.9.7"
  }
 },
 "nbformat": 4,
 "nbformat_minor": 5
}
