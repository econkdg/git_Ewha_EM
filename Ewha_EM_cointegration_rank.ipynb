{
 "cells": [
  {
   "cell_type": "code",
   "execution_count": 1,
   "id": "798dbefe",
   "metadata": {},
   "outputs": [],
   "source": [
    "import pandas as pd\n",
    "import numpy as np\n",
    "from matplotlib import pyplot as plt\n",
    "import statsmodels as sm\n",
    "import statsmodels.formula.api as smf"
   ]
  },
  {
   "cell_type": "code",
   "execution_count": 2,
   "id": "91338351",
   "metadata": {},
   "outputs": [],
   "source": [
    "df=pd.read_csv(\"c://j-works22/works/data/prac_kr_ip.csv\")"
   ]
  },
  {
   "cell_type": "code",
   "execution_count": 3,
   "id": "025ace71",
   "metadata": {},
   "outputs": [],
   "source": [
    "x1=df['mfg']\n",
    "x2=df['const']\n",
    "x3=df['service']\n",
    "x1=np.log(x1)\n",
    "x2=np.log(x2)\n",
    "x3=np.log(x3)\n",
    "z=pd.concat([x1,x2,x3],axis=1)"
   ]
  },
  {
   "cell_type": "code",
   "execution_count": 5,
   "id": "f1093ac7",
   "metadata": {},
   "outputs": [
    {
     "data": {
      "text/plain": [
       "(96, 3)"
      ]
     },
     "execution_count": 5,
     "metadata": {},
     "output_type": "execute_result"
    }
   ],
   "source": [
    "z.shape"
   ]
  },
  {
   "cell_type": "code",
   "execution_count": 6,
   "id": "93f2e9b6",
   "metadata": {},
   "outputs": [],
   "source": [
    "from statsmodels.tsa.vector_ar.vecm import coint_johansen\n",
    "# coint_johansen(data, deterministic_order, number of lagged terms)\n",
    "# det_order=0 for constant, order=1 for linear trend\n",
    "# eigen_values\n",
    "eig=coint_johansen(z, 1, 4).eig\n",
    "max_test=coint_johansen(z, 1, 4).max_eig_stat\n",
    "maxcv=coint_johansen(z, 1, 4).cvm\n",
    "# max_test\n",
    "# maxcv"
   ]
  },
  {
   "cell_type": "code",
   "execution_count": 9,
   "id": "c201b152",
   "metadata": {},
   "outputs": [
    {
     "name": "stdout",
     "output_type": "stream",
     "text": [
      "1st eigen_value: 0.285054\n",
      "2nd eigen_value: 0.081496\n",
      "3rd eigen_value: 0.000848\n",
      "**************************\n",
      "max0: 30.534835\n",
      "max1: 7.735845\n",
      "max2: 0.077212\n",
      "cv_0vs1 [21.8731 24.2522 29.2631]\n",
      "cv_1vs2 [15.0006 17.1481 21.7465]\n"
     ]
    }
   ],
   "source": [
    "# print(eigenvalues: %f' % eig[0])\n",
    "eig0=eig[0]\n",
    "eig1=eig[1]\n",
    "eig2=eig[2]\n",
    "\n",
    "print('1st eigen_value: %f' % eig0)\n",
    "print('2nd eigen_value: %f' % eig1)\n",
    "print('3rd eigen_value: %f' % eig2)\n",
    "print('**************************' )\n",
    "\n",
    "max0=max_test[0]\n",
    "max1=max_test[1]\n",
    "max2=max_test[2]\n",
    "\n",
    "print('max0: %f' % max0)\n",
    "print('max1: %f' % max1)\n",
    "print('max2: %f' % max2)\n",
    "\n",
    "maxcv0=maxcv[0]\n",
    "maxcv1=maxcv[1]\n",
    "\n",
    "print('cv_0vs1', maxcv0)\n",
    "print('cv_1vs2', maxcv1)"
   ]
  }
 ],
 "metadata": {
  "kernelspec": {
   "display_name": "Python 3 (ipykernel)",
   "language": "python",
   "name": "python3"
  },
  "language_info": {
   "codemirror_mode": {
    "name": "ipython",
    "version": 3
   },
   "file_extension": ".py",
   "mimetype": "text/x-python",
   "name": "python",
   "nbconvert_exporter": "python",
   "pygments_lexer": "ipython3",
   "version": "3.9.7"
  }
 },
 "nbformat": 4,
 "nbformat_minor": 5
}
