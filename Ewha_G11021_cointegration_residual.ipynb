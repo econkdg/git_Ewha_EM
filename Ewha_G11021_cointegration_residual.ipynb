{
 "cells": [
  {
   "cell_type": "code",
   "execution_count": 1,
   "id": "798dbefe",
   "metadata": {},
   "outputs": [],
   "source": [
    "import pandas as pd\n",
    "import numpy as np\n",
    "from matplotlib import pyplot as plt\n",
    "import statsmodels as sm\n",
    "import statsmodels.formula.api as smf"
   ]
  },
  {
   "cell_type": "code",
   "execution_count": 2,
   "id": "8ab00c59",
   "metadata": {},
   "outputs": [],
   "source": [
    "df=pd.read_csv(\"c://j-works22/works/data/prac_kr_ip.csv\")\n",
    "x1=df['mfg']\n",
    "x2=df['const']\n",
    "x3=df['service']\n",
    "trend=df['trend']\n",
    "x1=np.log(x1)\n",
    "x2=np.log(x2)\n",
    "x3=np.log(x3)"
   ]
  },
  {
   "cell_type": "code",
   "execution_count": 3,
   "id": "6fc3ffb1",
   "metadata": {},
   "outputs": [
    {
     "name": "stdout",
     "output_type": "stream",
     "text": [
      "                            OLS Regression Results                            \n",
      "==============================================================================\n",
      "Dep. Variable:                     x1   R-squared:                       0.640\n",
      "Model:                            OLS   Adj. R-squared:                  0.629\n",
      "Method:                 Least Squares   F-statistic:                     54.61\n",
      "Date:                Tue, 15 Mar 2022   Prob (F-statistic):           2.29e-20\n",
      "Time:                        12:21:11   Log-Likelihood:                 235.69\n",
      "No. Observations:                  96   AIC:                            -463.4\n",
      "Df Residuals:                      92   BIC:                            -453.1\n",
      "Df Model:                           3                                         \n",
      "Covariance Type:            nonrobust                                         \n",
      "==============================================================================\n",
      "                 coef    std err          t      P>|t|      [0.025      0.975]\n",
      "------------------------------------------------------------------------------\n",
      "Intercept      3.7114      0.650      5.708      0.000       2.420       5.003\n",
      "x2             0.0701      0.031      2.290      0.024       0.009       0.131\n",
      "x3             0.1228      0.158      0.777      0.439      -0.191       0.436\n",
      "trend          0.0006      0.000      2.640      0.010       0.000       0.001\n",
      "==============================================================================\n",
      "Omnibus:                       23.761   Durbin-Watson:                   1.061\n",
      "Prob(Omnibus):                  0.000   Jarque-Bera (JB):               73.944\n",
      "Skew:                          -0.742   Prob(JB):                     8.78e-17\n",
      "Kurtosis:                       7.036   Cond. No.                     1.73e+04\n",
      "==============================================================================\n",
      "\n",
      "Notes:\n",
      "[1] Standard Errors assume that the covariance matrix of the errors is correctly specified.\n",
      "[2] The condition number is large, 1.73e+04. This might indicate that there are\n",
      "strong multicollinearity or other numerical problems.\n"
     ]
    }
   ],
   "source": [
    "ols=smf.ols('x1~x2+x3+trend', data=df).fit()\n",
    "print(ols.summary().as_text())"
   ]
  },
  {
   "cell_type": "code",
   "execution_count": 5,
   "id": "1c99f749",
   "metadata": {},
   "outputs": [],
   "source": [
    "ehat=ols.resid\n",
    "# ehat.describe()"
   ]
  },
  {
   "cell_type": "code",
   "execution_count": 10,
   "id": "93f2e9b6",
   "metadata": {},
   "outputs": [
    {
     "data": {
      "text/plain": [
       "(-3.164419017463187,\n",
       " 0.022138855602268952,\n",
       " 9,\n",
       " 86,\n",
       " {'1%': -3.5087828609430614,\n",
       "  '5%': -2.895783561573195,\n",
       "  '10%': -2.5850381719848565},\n",
       " 1.8926270808011216)"
      ]
     },
     "execution_count": 10,
     "metadata": {},
     "output_type": "execute_result"
    }
   ],
   "source": [
    "# adf test for the residuals\n",
    "from statsmodels.tsa.stattools import adfuller\n",
    "\n",
    "adf=adfuller(ehat, regression='c', autolag='t-stat', store=False, regresults=False)\n",
    "# regression = c(constant), nc(none), ct(constant and trend)\n",
    "\n",
    "adf"
   ]
  },
  {
   "cell_type": "code",
   "execution_count": 11,
   "id": "c7562f7a",
   "metadata": {},
   "outputs": [
    {
     "name": "stdout",
     "output_type": "stream",
     "text": [
      "test value: -3.164400\n",
      "p-value: 0.022100\n",
      "lag: 9.000000\n",
      "sample size 86.000000\n",
      "cv= {'1%': -3.5087828609430614, '5%': -2.895783561573195, '10%': -2.5850381719848565}\n"
     ]
    }
   ],
   "source": [
    "adf0=adf[0]\n",
    "adf1=adf[1]\n",
    "adf2=adf[2]\n",
    "adf3=adf[3]\n",
    "adf4=adf[4]\n",
    "# out={adf0, adf1, adf2, adf3}\n",
    "#result=pd.Series(out)\n",
    "#result\n",
    "adf0=round(adf0, 4)\n",
    "adf1=round(adf1, 4)\n",
    "adf2=round(adf2, 4)\n",
    "adf3=round(adf3, 4)\n",
    "\n",
    "print('test value: %f' % adf0)\n",
    "print('p-value: %f' % adf1)\n",
    "print('lag: %f' % adf2)\n",
    "print('sample size %f' % adf3)\n",
    "print('cv=', adf4)"
   ]
  }
 ],
 "metadata": {
  "kernelspec": {
   "display_name": "Python 3 (ipykernel)",
   "language": "python",
   "name": "python3"
  },
  "language_info": {
   "codemirror_mode": {
    "name": "ipython",
    "version": 3
   },
   "file_extension": ".py",
   "mimetype": "text/x-python",
   "name": "python",
   "nbconvert_exporter": "python",
   "pygments_lexer": "ipython3",
   "version": "3.9.7"
  }
 },
 "nbformat": 4,
 "nbformat_minor": 5
}
