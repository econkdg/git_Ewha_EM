{
 "cells": [
  {
   "cell_type": "code",
   "execution_count": 1,
   "id": "798dbefe",
   "metadata": {},
   "outputs": [],
   "source": [
    "import pandas as pd\n",
    "import numpy as np\n",
    "import statsmodels as sm\n",
    "import statsmodels.formula.api as smf\n",
    "import statsmodels.regression as sm_reg\n",
    "\n",
    "from matplotlib import pyplot as plt\n",
    "import math\n",
    "from sklearn.linear_model import Lasso\n",
    "from sklearn.linear_model import LassoCV\n",
    "from sklearn.linear_model import PoissonRegressor\n",
    "\n",
    "#from sklearn.model_selection import cross_val_score\n",
    "#from sklearn.model_selection import GridSearchCV\n",
    "#from sklearn.model_selection import KFold"
   ]
  },
  {
   "cell_type": "code",
   "execution_count": 30,
   "id": "91338351",
   "metadata": {},
   "outputs": [],
   "source": [
    "df=pd.read_csv(\"c://j-works22/works/data/prac_many_poisson.csv\")\n",
    "y=df['y']\n",
    "x=df.values[:, 2:8]"
   ]
  },
  {
   "cell_type": "code",
   "execution_count": 42,
   "id": "75264418",
   "metadata": {},
   "outputs": [
    {
     "name": "stdout",
     "output_type": "stream",
     "text": [
      "Estimates of Beta [ 0.44368943 -0.09957124  0.00826312  0.00064367  0.00106867  0.00703867]\n"
     ]
    }
   ],
   "source": [
    "# alpha=0 for unpenalized Poisson Regression, alpha=1 for L2-regularized Poiosson\n",
    "\n",
    "# model=PoissonRegressor(alpha=0, fit_intercept=True, max_iter=100)\n",
    "model=PoissonRegressor(alpha=1, fit_intercept=True, max_iter=100)\n",
    "model.fit(x,y)\n",
    "coef=model.coef_\n",
    "#coef=np.array(coef)\n",
    "#coef=np.around(coef, decimals=3)\n",
    "#print('Estimate of Tuning Paramter: %f' % tuning)\n",
    "print(\"Estimates of Beta\", coef)"
   ]
  },
  {
   "cell_type": "code",
   "execution_count": 43,
   "id": "f66aa338",
   "metadata": {},
   "outputs": [
    {
     "name": "stdout",
     "output_type": "stream",
     "text": [
      "Optimization terminated successfully.\n",
      "         Current function value: 1.880788\n",
      "         Iterations 5\n",
      "                          Poisson Regression Results                          \n",
      "==============================================================================\n",
      "Dep. Variable:                      y   No. Observations:                  101\n",
      "Model:                        Poisson   Df Residuals:                       98\n",
      "Method:                           MLE   Df Model:                            2\n",
      "Date:                Tue, 10 May 2022   Pseudo R-squ.:                 0.02456\n",
      "Time:                        14:30:03   Log-Likelihood:                -189.96\n",
      "converged:                       True   LL-Null:                       -194.74\n",
      "Covariance Type:            nonrobust   LLR p-value:                  0.008380\n",
      "==============================================================================\n",
      "                 coef    std err          z      P>|z|      [0.025      0.975]\n",
      "------------------------------------------------------------------------------\n",
      "Intercept      0.8524      0.210      4.052      0.000       0.440       1.265\n",
      "x1            -0.3360      0.122     -2.757      0.006      -0.575      -0.097\n",
      "x2             0.0543      0.054      1.007      0.314      -0.051       0.160\n",
      "==============================================================================\n"
     ]
    }
   ],
   "source": [
    "# post-selection Poisson Regression \n",
    "\n",
    "from statsmodels.formula.api import poisson\n",
    "x1=df['x1']\n",
    "x2=df['x2']\n",
    "\n",
    "preg=poisson(formula=' ' 'y~x1+x2' ' ', data=df)\n",
    "poisson= preg.fit()\n",
    "print(poisson.summary())"
   ]
  }
 ],
 "metadata": {
  "kernelspec": {
   "display_name": "Python 3 (ipykernel)",
   "language": "python",
   "name": "python3"
  },
  "language_info": {
   "codemirror_mode": {
    "name": "ipython",
    "version": 3
   },
   "file_extension": ".py",
   "mimetype": "text/x-python",
   "name": "python",
   "nbconvert_exporter": "python",
   "pygments_lexer": "ipython3",
   "version": "3.9.7"
  }
 },
 "nbformat": 4,
 "nbformat_minor": 5
}
